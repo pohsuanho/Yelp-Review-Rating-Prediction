{
 "cells": [
  {
   "cell_type": "markdown",
   "id": "2bd15fb6",
   "metadata": {},
   "source": [
    "Predict a new venue's popularity from information available when the venue opens"
   ]
  },
  {
   "cell_type": "code",
   "execution_count": 3,
   "id": "aa8723c6",
   "metadata": {},
   "outputs": [],
   "source": [
    "import ujson as json\n",
    "import gzip\n",
    "\n",
    "with gzip.open('yelp_train_academic_dataset_business.json.gz') as f:\n",
    "    data = [json.loads(line) for line in f]"
   ]
  },
  {
   "cell_type": "code",
   "execution_count": 4,
   "id": "bba98bb1",
   "metadata": {},
   "outputs": [
    {
     "data": {
      "text/plain": [
       "[3.5, 4.0, 4.0]"
      ]
     },
     "execution_count": 4,
     "metadata": {},
     "output_type": "execute_result"
    }
   ],
   "source": [
    "#create a list of ratings\n",
    "star_ratings = [row['stars'] for row in data]\n",
    "star_ratings[:3]"
   ]
  },
  {
   "cell_type": "markdown",
   "id": "85fe4a10",
   "metadata": {},
   "source": [
    "We wish to build an estimator to make a prediction based on different cities, but first we need to work out the average rating for each city. Create a list of tuples (city name, star rating), one for each city in the data set. "
   ]
  },
  {
   "cell_type": "code",
   "execution_count": 7,
   "id": "25fd2c8e",
   "metadata": {},
   "outputs": [
    {
     "name": "stdout",
     "output_type": "stream",
     "text": [
      "City:Phoenix, Stars: 3.67\n",
      "City:De Forest, Stars: 3.75\n",
      "City:Mc Farland, Stars: 3.10\n",
      "City:Middleton, Stars: 3.61\n",
      "City:Madison, Stars: 3.65\n",
      "City:Sun Prairie, Stars: 3.46\n",
      "City:Windsor, Stars: 3.50\n",
      "City:Monona, Stars: 3.47\n",
      "City:Chandler, Stars: 3.67\n",
      "City:Scottsdale, Stars: 3.82\n",
      "City:Tempe, Stars: 3.64\n",
      "City:Florence, Stars: 3.62\n",
      "City:Peoria, Stars: 3.64\n",
      "City:Glendale, Stars: 3.61\n",
      "City:Cave Creek, Stars: 3.91\n",
      "City:Paradise Valley, Stars: 3.67\n",
      "City:Mesa, Stars: 3.59\n",
      "City:Ahwatukee, Stars: 3.69\n",
      "City:Pheonix, Stars: 3.00\n",
      "City:Anthem, Stars: 3.78\n",
      "City:Gilbert, Stars: 3.75\n",
      "City:Gold Canyon, Stars: 3.50\n",
      "City:Apache Junction, Stars: 3.64\n",
      "City:Goldfield, Stars: 3.50\n",
      "City:Casa Grande, Stars: 3.52\n",
      "City:Coolidge, Stars: 3.44\n",
      "City:Higley, Stars: 3.50\n",
      "City:Queen Creek, Stars: 3.65\n",
      "City:Sun Lakes, Stars: 3.22\n",
      "City:Goodyear, Stars: 3.53\n",
      "City:Fort Mcdowell, Stars: 4.00\n",
      "City:Fountain Hills, Stars: 3.79\n",
      "City:Fountain Hls, Stars: 3.00\n",
      "City:Maricopa, Stars: 3.52\n",
      "City:chandler, Stars: 5.00\n",
      "City:Buckeye, Stars: 3.41\n",
      "City:Litchfield Park, Stars: 3.70\n",
      "City:Tonopah, Stars: 3.75\n",
      "City:Surprise, Stars: 3.58\n",
      "City:Wickenburg, Stars: 3.66\n",
      "City:Sedona, Stars: 3.50\n",
      "City:Henderson, Stars: 3.69\n",
      "City:Las Vegas, Stars: 3.65\n",
      "City:North Las Vegas, Stars: 3.45\n",
      "City:N Las Vegas, Stars: 3.56\n",
      "City:N. Las Vegas, Stars: 3.25\n",
      "City:C Las Vegas, Stars: 3.00\n",
      "City:Sunrise, Stars: 3.00\n",
      "City:Las Vegas , Stars: 3.60\n",
      "City:Cottage Grove, Stars: 3.22\n",
      "City:Dane, Stars: 4.25\n",
      "City:Fitchburg, Stars: 3.46\n",
      "City:Stoughton, Stars: 3.75\n",
      "City:Verona, Stars: 3.85\n",
      "City:Waunakee, Stars: 3.33\n",
      "City:Trempealeau, Stars: 4.00\n",
      "City:New River, Stars: 3.58\n",
      "City:Avondale, Stars: 3.54\n",
      "City:Rio Verde, Stars: 4.00\n",
      "City:Guadalupe, Stars: 4.00\n",
      "City:El Mirage, Stars: 3.70\n",
      "City:Sun City, Stars: 3.55\n",
      "City:Tolleson, Stars: 3.23\n",
      "City:Carefree, Stars: 3.89\n",
      "City:Gila Bend, Stars: 3.38\n",
      "City:Laveen, Stars: 3.34\n",
      "City:Youngtown, Stars: 3.86\n",
      "City:Sun City West, Stars: 3.62\n",
      "City:Boulder City, Stars: 4.14\n",
      "City:Nellis Air Force Base, Stars: 3.00\n",
      "City:Nellis AFB, Stars: 4.22\n",
      "City:Green Valley, Stars: 4.00\n",
      "City:North Scottsdale, Stars: 4.00\n",
      "City:Litchfield Park , Stars: 4.50\n",
      "City:Nellis Afb, Stars: 3.25\n",
      "City:Summerlin, Stars: 4.00\n",
      "City:San Tan Valley, Stars: 3.87\n",
      "City:Tortilla Flat, Stars: 4.17\n",
      "City:Mesa , Stars: 3.00\n",
      "City:Fort McDowell, Stars: 3.36\n",
      "City:Morristown, Stars: 3.50\n",
      "City:Waddell, Stars: 3.83\n",
      "City:W Henderson, Stars: 3.50\n",
      "City:Las Vegas, NV 89147, Stars: 2.50\n",
      "City:Las Vegas East, Stars: 4.50\n",
      "City:DeForest, Stars: 4.10\n",
      "City:Paradise, Stars: 3.47\n",
      "City:Stanfield, Stars: 3.50\n",
      "City:Atlanta, Stars: 3.50\n",
      "City:Newberry Springs, Stars: 3.50\n",
      "City:St Clements, Stars: 4.50\n",
      "City:Waterloo, Stars: 3.61\n",
      "City:Kitchener, Stars: 3.70\n",
      "City:Cambridge, Stars: 4.20\n",
      "City:Edinburgh, Stars: 3.80\n",
      "City:Musselburgh, Stars: 3.55\n",
      "City:South Queensferry, Stars: 3.90\n",
      "City:Roslin, Stars: 4.50\n",
      "City:Dalkeith, Stars: 4.33\n",
      "City:Loanhead, Stars: 3.80\n",
      "City:Lasswade, Stars: 3.33\n",
      "City:Penicuik, Stars: 4.00\n",
      "City:Bonnyrigg, Stars: 3.75\n",
      "City:Ratho, Stars: 3.00\n",
      "City:St Jacobs, Stars: 3.50\n",
      "City:Arcadia, Stars: 5.00\n",
      "City:Tonto Basin, Stars: 3.83\n",
      "City:Queensferry, Stars: 3.83\n",
      "City:Spring Valley, Stars: 3.50\n",
      "City:Enterprise, Stars: 3.22\n",
      "City:McFarland, Stars: 4.40\n",
      "City:Rochester, Stars: 5.00\n",
      "City:North Las Vegas , Stars: 3.50\n",
      "City:N E Las Vegas, Stars: 5.00\n",
      "City:N W Las Vegas, Stars: 3.50\n",
      "City:Heidelberg, Stars: 2.50\n",
      "City:Central Henderson, Stars: 3.50\n",
      "City:Saguaro Lake, Stars: 3.00\n",
      "City:Cramond, Stars: 4.25\n",
      "City:Leith, Stars: 4.00\n",
      "City:W Spring Valley, Stars: 3.00\n",
      "City:North Queensferry, Stars: 3.50\n",
      "City:Inverkeithing, Stars: 3.00\n",
      "City:Portobello, Stars: 3.75\n",
      "City:Water of Leith, Stars: 4.50\n",
      "City:Centennial Hills, Stars: 3.00\n",
      "City:Woolwich, Stars: 4.25\n",
      "City:Victoria Park, Stars: 4.50\n",
      "City:Juniper Green, Stars: 3.83\n",
      "City:W Summerlin, Stars: 3.50\n",
      "City:Lake Las Vegas, Stars: 4.50\n",
      "City:Henderson , Stars: 4.00\n",
      "City:Straiton, Stars: 2.50\n",
      "City:Deforest, Stars: 5.00\n",
      "City:Summerlin South, Stars: 3.25\n",
      "City:Sun City Anthem, Stars: 3.00\n",
      "City:Clark County, Stars: 3.00\n",
      "City:Phoenix , Stars: 1.00\n",
      "City:Glendale Az, Stars: 4.00\n",
      "City:Mcfarland, Stars: 3.50\n",
      "City:Newbridge, Stars: 4.50\n",
      "City:Sunrise Manor, Stars: 3.00\n",
      "City:Midlothian, Stars: 4.50\n",
      "City:Henderson and Las vegas, Stars: 4.00\n",
      "City:NELLIS AFB, Stars: 4.50\n",
      "City:Surprise Crossing, Stars: 4.50\n",
      "City:South Las Vegas, Stars: 4.50\n",
      "City:Black Canyon City, Stars: 3.00\n",
      "City:Fort Kinnaird, Stars: 4.50\n",
      "City:Chandler-Gilbert, Stars: 5.00\n",
      "City:Phoenix Sky Harbor Center, Stars: 3.50\n",
      "City:Eagan, Stars: 5.00\n",
      "City:Stockbridge, Stars: 4.50\n",
      "City:New York, Stars: 5.00\n",
      "City:City of Edinburgh, Stars: 3.00\n",
      "City:South Gyle, Stars: 2.50\n",
      "City:Central City Village, Stars: 3.12\n",
      "City:New Town, Stars: 3.67\n",
      "City:Scotland, Stars: 3.50\n",
      "City:London, Stars: 3.00\n",
      "City:Whitney, Stars: 4.50\n",
      "City:St. Jacobs, Stars: 4.50\n",
      "City:Old Town, Stars: 4.00\n",
      "City:Newington, Stars: 3.00\n",
      "City:Scottsdale, Phoenix, Chandler, Gilbert, Stars: 5.00\n",
      "City:Henderson (Stephanie), Stars: 4.00\n",
      "City:Henderson (Green  Valley), Stars: 4.00\n"
     ]
    }
   ],
   "source": [
    "from collections import defaultdict\n",
    "\n",
    "star_sum = defaultdict(int)\n",
    "count = defaultdict(int)\n",
    "\n",
    "for row in data:\n",
    "    city = row[\"city\"]\n",
    "    stars = row[\"stars\"]\n",
    "    star_sum[city] += stars\n",
    "    count[city] += 1\n",
    "    \n",
    "avg_stars = {city: star_sum[city]/ count[city] for city in star_sum}\n",
    "\n",
    "for city, stars in avg_stars.items():\n",
    "    print(f\"City:{city}, Stars: {stars:.2f}\")"
   ]
  },
  {
   "cell_type": "code",
   "execution_count": 8,
   "id": "8ed7b612",
   "metadata": {},
   "outputs": [
    {
     "data": {
      "text/plain": [
       "dict_items([('Phoenix', 3.6702903946388683), ('De Forest', 3.75), ('Mc Farland', 3.1), ('Middleton', 3.611111111111111), ('Madison', 3.6457337883959045), ('Sun Prairie', 3.455223880597015), ('Windsor', 3.5), ('Monona', 3.4727272727272727), ('Chandler', 3.667574931880109), ('Scottsdale', 3.8206757594544327), ('Tempe', 3.644621295279912), ('Florence', 3.6176470588235294), ('Peoria', 3.6388367729831144), ('Glendale', 3.607404021937843), ('Cave Creek', 3.9122137404580153), ('Paradise Valley', 3.6690140845070425), ('Mesa', 3.5901461829994585), ('Ahwatukee', 3.6875), ('Pheonix', 3.0), ('Anthem', 3.7818181818181817), ('Gilbert', 3.752396166134185), ('Gold Canyon', 3.5), ('Apache Junction', 3.6375), ('Goldfield', 3.5), ('Casa Grande', 3.5172413793103448), ('Coolidge', 3.4375), ('Higley', 3.5), ('Queen Creek', 3.6456043956043955), ('Sun Lakes', 3.2222222222222223), ('Goodyear', 3.5313653136531364), ('Fort Mcdowell', 4.0), ('Fountain Hills', 3.7904761904761903), ('Fountain Hls', 3.0), ('Maricopa', 3.52), ('chandler', 5.0), ('Buckeye', 3.408450704225352), ('Litchfield Park', 3.7), ('Tonopah', 3.75), ('Surprise', 3.5758426966292136), ('Wickenburg', 3.6555555555555554), ('Sedona', 3.5), ('Henderson', 3.6879310344827587), ('Las Vegas', 3.651368537461985), ('North Las Vegas', 3.4460043196544277), ('N Las Vegas', 3.5625), ('N. Las Vegas', 3.25), ('C Las Vegas', 3.0), ('Sunrise', 3.0), ('Las Vegas ', 3.6), ('Cottage Grove', 3.2222222222222223), ('Dane', 4.25), ('Fitchburg', 3.4634146341463414), ('Stoughton', 3.75), ('Verona', 3.8548387096774195), ('Waunakee', 3.3333333333333335), ('Trempealeau', 4.0), ('New River', 3.5833333333333335), ('Avondale', 3.53862660944206), ('Rio Verde', 4.0), ('Guadalupe', 4.0), ('El Mirage', 3.7), ('Sun City', 3.55), ('Tolleson', 3.2291666666666665), ('Carefree', 3.888888888888889), ('Gila Bend', 3.375), ('Laveen', 3.3392857142857144), ('Youngtown', 3.857142857142857), ('Sun City West', 3.625), ('Boulder City', 4.136363636363637), ('Nellis Air Force Base', 3.0), ('Nellis AFB', 4.222222222222222), ('Green Valley', 4.0), ('North Scottsdale', 4.0), ('Litchfield Park ', 4.5), ('Nellis Afb', 3.25), ('Summerlin', 4.0), ('San Tan Valley', 3.870967741935484), ('Tortilla Flat', 4.166666666666667), ('Mesa ', 3.0), ('Fort McDowell', 3.357142857142857), ('Morristown', 3.5), ('Waddell', 3.8333333333333335), ('W Henderson', 3.5), ('Las Vegas, NV 89147', 2.5), ('Las Vegas East', 4.5), ('DeForest', 4.1), ('Paradise', 3.46875), ('Stanfield', 3.5), ('Atlanta', 3.5), ('Newberry Springs', 3.5), ('St Clements', 4.5), ('Waterloo', 3.6054421768707483), ('Kitchener', 3.6982758620689653), ('Cambridge', 4.2), ('Edinburgh', 3.7963391136801543), ('Musselburgh', 3.55), ('South Queensferry', 3.9), ('Roslin', 4.5), ('Dalkeith', 4.333333333333333), ('Loanhead', 3.8), ('Lasswade', 3.3333333333333335), ('Penicuik', 4.0), ('Bonnyrigg', 3.75), ('Ratho', 3.0), ('St Jacobs', 3.5), ('Arcadia', 5.0), ('Tonto Basin', 3.8333333333333335), ('Queensferry', 3.8333333333333335), ('Spring Valley', 3.5), ('Enterprise', 3.2222222222222223), ('McFarland', 4.4), ('Rochester', 5.0), ('North Las Vegas ', 3.5), ('N E Las Vegas', 5.0), ('N W Las Vegas', 3.5), ('Heidelberg', 2.5), ('Central Henderson', 3.5), ('Saguaro Lake', 3.0), ('Cramond', 4.25), ('Leith', 4.0), ('W Spring Valley', 3.0), ('North Queensferry', 3.5), ('Inverkeithing', 3.0), ('Portobello', 3.75), ('Water of Leith', 4.5), ('Centennial Hills', 3.0), ('Woolwich', 4.25), ('Victoria Park', 4.5), ('Juniper Green', 3.8333333333333335), ('W Summerlin', 3.5), ('Lake Las Vegas', 4.5), ('Henderson ', 4.0), ('Straiton', 2.5), ('Deforest', 5.0), ('Summerlin South', 3.25), ('Sun City Anthem', 3.0), ('Clark County', 3.0), ('Phoenix ', 1.0), ('Glendale Az', 4.0), ('Mcfarland', 3.5), ('Newbridge', 4.5), ('Sunrise Manor', 3.0), ('Midlothian', 4.5), ('Henderson and Las vegas', 4.0), ('NELLIS AFB', 4.5), ('Surprise Crossing', 4.5), ('South Las Vegas', 4.5), ('Black Canyon City', 3.0), ('Fort Kinnaird', 4.5), ('Chandler-Gilbert', 5.0), ('Phoenix Sky Harbor Center', 3.5), ('Eagan', 5.0), ('Stockbridge', 4.5), ('New York', 5.0), ('City of Edinburgh', 3.0), ('South Gyle', 2.5), ('Central City Village', 3.125), ('New Town', 3.6666666666666665), ('Scotland', 3.5), ('London', 3.0), ('Whitney', 4.5), ('St. Jacobs', 4.5), ('Old Town', 4.0), ('Newington', 3.0), ('Scottsdale, Phoenix, Chandler, Gilbert', 5.0), ('Henderson (Stephanie)', 4.0), ('Henderson (Green  Valley)', 4.0)])"
      ]
     },
     "execution_count": 8,
     "metadata": {},
     "output_type": "execute_result"
    }
   ],
   "source": [
    "avg_stars.items()"
   ]
  },
  {
   "cell_type": "markdown",
   "id": "b42bde68",
   "metadata": {},
   "source": [
    "city_model: build a custom estimator that will make a prediction based solely on the city of a venue."
   ]
  },
  {
   "cell_type": "code",
   "execution_count": 24,
   "id": "1a0f51d0",
   "metadata": {},
   "outputs": [
    {
     "data": {
      "text/html": [
       "<style>#sk-container-id-2 {color: black;}#sk-container-id-2 pre{padding: 0;}#sk-container-id-2 div.sk-toggleable {background-color: white;}#sk-container-id-2 label.sk-toggleable__label {cursor: pointer;display: block;width: 100%;margin-bottom: 0;padding: 0.3em;box-sizing: border-box;text-align: center;}#sk-container-id-2 label.sk-toggleable__label-arrow:before {content: \"▸\";float: left;margin-right: 0.25em;color: #696969;}#sk-container-id-2 label.sk-toggleable__label-arrow:hover:before {color: black;}#sk-container-id-2 div.sk-estimator:hover label.sk-toggleable__label-arrow:before {color: black;}#sk-container-id-2 div.sk-toggleable__content {max-height: 0;max-width: 0;overflow: hidden;text-align: left;background-color: #f0f8ff;}#sk-container-id-2 div.sk-toggleable__content pre {margin: 0.2em;color: black;border-radius: 0.25em;background-color: #f0f8ff;}#sk-container-id-2 input.sk-toggleable__control:checked~div.sk-toggleable__content {max-height: 200px;max-width: 100%;overflow: auto;}#sk-container-id-2 input.sk-toggleable__control:checked~label.sk-toggleable__label-arrow:before {content: \"▾\";}#sk-container-id-2 div.sk-estimator input.sk-toggleable__control:checked~label.sk-toggleable__label {background-color: #d4ebff;}#sk-container-id-2 div.sk-label input.sk-toggleable__control:checked~label.sk-toggleable__label {background-color: #d4ebff;}#sk-container-id-2 input.sk-hidden--visually {border: 0;clip: rect(1px 1px 1px 1px);clip: rect(1px, 1px, 1px, 1px);height: 1px;margin: -1px;overflow: hidden;padding: 0;position: absolute;width: 1px;}#sk-container-id-2 div.sk-estimator {font-family: monospace;background-color: #f0f8ff;border: 1px dotted black;border-radius: 0.25em;box-sizing: border-box;margin-bottom: 0.5em;}#sk-container-id-2 div.sk-estimator:hover {background-color: #d4ebff;}#sk-container-id-2 div.sk-parallel-item::after {content: \"\";width: 100%;border-bottom: 1px solid gray;flex-grow: 1;}#sk-container-id-2 div.sk-label:hover label.sk-toggleable__label {background-color: #d4ebff;}#sk-container-id-2 div.sk-serial::before {content: \"\";position: absolute;border-left: 1px solid gray;box-sizing: border-box;top: 0;bottom: 0;left: 50%;z-index: 0;}#sk-container-id-2 div.sk-serial {display: flex;flex-direction: column;align-items: center;background-color: white;padding-right: 0.2em;padding-left: 0.2em;position: relative;}#sk-container-id-2 div.sk-item {position: relative;z-index: 1;}#sk-container-id-2 div.sk-parallel {display: flex;align-items: stretch;justify-content: center;background-color: white;position: relative;}#sk-container-id-2 div.sk-item::before, #sk-container-id-2 div.sk-parallel-item::before {content: \"\";position: absolute;border-left: 1px solid gray;box-sizing: border-box;top: 0;bottom: 0;left: 50%;z-index: -1;}#sk-container-id-2 div.sk-parallel-item {display: flex;flex-direction: column;z-index: 1;position: relative;background-color: white;}#sk-container-id-2 div.sk-parallel-item:first-child::after {align-self: flex-end;width: 50%;}#sk-container-id-2 div.sk-parallel-item:last-child::after {align-self: flex-start;width: 50%;}#sk-container-id-2 div.sk-parallel-item:only-child::after {width: 0;}#sk-container-id-2 div.sk-dashed-wrapped {border: 1px dashed gray;margin: 0 0.4em 0.5em 0.4em;box-sizing: border-box;padding-bottom: 0.4em;background-color: white;}#sk-container-id-2 div.sk-label label {font-family: monospace;font-weight: bold;display: inline-block;line-height: 1.2em;}#sk-container-id-2 div.sk-label-container {text-align: center;}#sk-container-id-2 div.sk-container {/* jupyter's `normalize.less` sets `[hidden] { display: none; }` but bootstrap.min.css set `[hidden] { display: none !important; }` so we also need the `!important` here to be able to override the default hidden behavior on the sphinx rendered scikit-learn.org. See: https://github.com/scikit-learn/scikit-learn/issues/21755 */display: inline-block !important;position: relative;}#sk-container-id-2 div.sk-text-repr-fallback {display: none;}</style><div id=\"sk-container-id-2\" class=\"sk-top-container\"><div class=\"sk-text-repr-fallback\"><pre>CityRegressor()</pre><b>In a Jupyter environment, please rerun this cell to show the HTML representation or trust the notebook. <br />On GitHub, the HTML representation is unable to render, please try loading this page with nbviewer.org.</b></div><div class=\"sk-container\" hidden><div class=\"sk-item\"><div class=\"sk-estimator sk-toggleable\"><input class=\"sk-toggleable__control sk-hidden--visually\" id=\"sk-estimator-id-2\" type=\"checkbox\" checked><label for=\"sk-estimator-id-2\" class=\"sk-toggleable__label sk-toggleable__label-arrow\">CityRegressor</label><div class=\"sk-toggleable__content\"><pre>CityRegressor()</pre></div></div></div></div></div>"
      ],
      "text/plain": [
       "CityRegressor()"
      ]
     },
     "execution_count": 24,
     "metadata": {},
     "output_type": "execute_result"
    }
   ],
   "source": [
    "from collections import defaultdict\n",
    "from sklearn.base import BaseEstimator, RegressorMixin\n",
    "\n",
    "#put previous calculation of rating/city in a class\n",
    "class CityRegressor(BaseEstimator, RegressorMixin):\n",
    "    \n",
    "    def __init__(self):\n",
    "        self.star_sum = defaultdict(int)\n",
    "        self.count = defaultdict(int)\n",
    "        self.avg_stars = dict()\n",
    "    \n",
    "    def fit(self, X, y):\n",
    "        # Store the average rating per city in self.avg_stars\n",
    "        for row in X:\n",
    "            city = row[\"city\"]\n",
    "            stars = row[\"stars\"]\n",
    "            self.star_sum[city] += stars\n",
    "            self.count[city] += 1\n",
    "        self.avg_stars = {city: self.star_sum[city]/ self.count[city] for city in self.star_sum}\n",
    "        return self\n",
    "    \n",
    "    def predict(self, X):\n",
    "        avg_ratings = [self.avg_stars.get(row[\"city\"], 0) for row in X]\n",
    "        return avg_ratings\n",
    "    \n",
    "city_model = CityRegressor()\n",
    "city_model.fit(data, star_ratings)"
   ]
  },
  {
   "cell_type": "code",
   "execution_count": 10,
   "id": "bf0ca384",
   "metadata": {},
   "outputs": [
    {
     "data": {
      "text/plain": [
       "[3.6702903946388683, 3.75, 3.75, 3.75]"
      ]
     },
     "execution_count": 10,
     "metadata": {},
     "output_type": "execute_result"
    }
   ],
   "source": [
    "city_model.predict(data[:4])"
   ]
  },
  {
   "cell_type": "code",
   "execution_count": 11,
   "id": "7cea7f67",
   "metadata": {},
   "outputs": [
    {
     "data": {
      "text/plain": [
       "[3.6702903946388683, 0, 3.6457337883959045]"
      ]
     },
     "execution_count": 11,
     "metadata": {},
     "output_type": "execute_result"
    }
   ],
   "source": [
    "city_model.predict([{'city': 'Phoenix'}, {'city': 'Timbuktu'}, {'city': 'Madison'}])"
   ]
  },
  {
   "cell_type": "markdown",
   "id": "79227987",
   "metadata": {},
   "source": [
    "lat_long_model: Use the latitude and longitude of a venue as features that help you understand neighborhood dynamics."
   ]
  },
  {
   "cell_type": "code",
   "execution_count": 13,
   "id": "daa3d6e0",
   "metadata": {},
   "outputs": [
    {
     "data": {
      "text/plain": [
       "True"
      ]
     },
     "execution_count": 13,
     "metadata": {},
     "output_type": "execute_result"
    }
   ],
   "source": [
    "import pandas as pd\n",
    "from sklearn.base import TransformerMixin\n",
    "\n",
    "#convert dict to df\n",
    "class ToDataFrame(BaseEstimator, TransformerMixin):\n",
    "    def fit(self, X, y=None):\n",
    "        # This transformer doesn't need to learn anything about the data,\n",
    "        # so it can just return self without any further processing\n",
    "        return self\n",
    "    \n",
    "    def transform(self, X):\n",
    "        # Return a pandas data frame from X\n",
    "        X = pd.DataFrame.from_dict(X)\n",
    "        return X\n",
    "\n",
    "to_data_frame = ToDataFrame()\n",
    "X_t = to_data_frame.fit_transform(data[:5])\n",
    "(X_t == pd.DataFrame(data[:5])).all(axis=None)"
   ]
  },
  {
   "cell_type": "code",
   "execution_count": 15,
   "id": "b4e59d2e",
   "metadata": {},
   "outputs": [
    {
     "data": {
      "text/plain": [
       "True"
      ]
     },
     "execution_count": 15,
     "metadata": {},
     "output_type": "execute_result"
    }
   ],
   "source": [
    "import numpy as np\n",
    "from sklearn.compose import ColumnTransformer\n",
    "\n",
    "selector = ColumnTransformer(\n",
    "    transformers=[('latutide', to_data_frame, ['latitude']), ('longitude', to_data_frame, ['longitude'])\n",
    "])\n",
    "\n",
    "expected = np.array([data[0]['latitude'], data[0]['longitude']])\n",
    "(selector.fit_transform(X_t)[0] == expected).all()"
   ]
  },
  {
   "cell_type": "code",
   "execution_count": 17,
   "id": "6616eafb",
   "metadata": {},
   "outputs": [
    {
     "data": {
      "text/plain": [
       "array([3.98333333, 3.81666667, 3.78333333, 3.6       , 3.83333333])"
      ]
     },
     "execution_count": 17,
     "metadata": {},
     "output_type": "execute_result"
    }
   ],
   "source": [
    "from sklearn.pipeline import Pipeline\n",
    "\n",
    "pipe = Pipeline([\n",
    "    ('todataframe', to_data_frame),\n",
    "    ('select', selector),\n",
    "    ('knn', knn)\n",
    "    \n",
    "])\n",
    "\n",
    "pipe.fit(data, star_ratings)\n",
    "pipe.predict(data[:5])"
   ]
  },
  {
   "cell_type": "code",
   "execution_count": 18,
   "id": "9f3049be",
   "metadata": {},
   "outputs": [
    {
     "data": {
      "image/png": "[encoded data removed]",
      "text/plain": [
       "<Figure size 432x288 with 1 Axes>"
      ]
     },
     "metadata": {
      "needs_background": "light"
     },
     "output_type": "display_data"
    }
   ],
   "source": [
    "from pandas import Series\n",
    "import matplotlib.pyplot as plt\n",
    "\n",
    "plt.plot(Series.rolling(Series(star_ratings), window=1000).mean());"
   ]
  },
  {
   "cell_type": "code",
   "execution_count": 19,
   "id": "ec6b6165",
   "metadata": {},
   "outputs": [
    {
     "name": "stdout",
     "output_type": "stream",
     "text": [
      "{'mean_fit_time': array([0.00863385, 0.00738716, 0.00732059, 0.00731831, 0.0073864 ,\n",
      "       0.00735502, 0.00739121, 0.0073771 , 0.00738087, 0.00756798,\n",
      "       0.00734448, 0.00743675, 0.00736375, 0.00740113, 0.00734568,\n",
      "       0.0073658 , 0.00733643, 0.00734429, 0.00734224, 0.00734982,\n",
      "       0.00736246, 0.00735102, 0.00732393, 0.00734801, 0.00734963,\n",
      "       0.00734692, 0.00739117, 0.00744262, 0.00737162, 0.00733714]), 'std_fit_time': array([1.56623306e-03, 9.00317298e-05, 5.45709660e-05, 5.53881613e-05,\n",
      "       7.51971443e-05, 4.71578208e-05, 9.73212842e-05, 5.70743205e-05,\n",
      "       1.08577884e-04, 4.56245074e-04, 3.49713815e-05, 1.74069795e-04,\n",
      "       3.00616994e-05, 1.44182311e-04, 4.60813219e-05, 9.73917688e-05,\n",
      "       5.64325042e-05, 6.17636479e-05, 4.02145360e-05, 7.11126488e-05,\n",
      "       5.07999670e-05, 5.43714811e-05, 6.72643674e-05, 5.34775371e-05,\n",
      "       3.94810225e-05, 5.70454305e-05, 7.43485928e-05, 9.64920491e-05,\n",
      "       3.87558622e-05, 5.71821800e-05]), 'mean_score_time': array([0.00621862, 0.00660467, 0.00729661, 0.00805402, 0.00873542,\n",
      "       0.00940833, 0.01020155, 0.01076422, 0.01163158, 0.01202517,\n",
      "       0.01268497, 0.01345496, 0.01383181, 0.01467924, 0.01523743,\n",
      "       0.01577158, 0.01611094, 0.01679354, 0.01733317, 0.01793413,\n",
      "       0.01852784, 0.01916642, 0.01972027, 0.02026153, 0.0207983 ,\n",
      "       0.02158785, 0.0221386 , 0.02275567, 0.02339172, 0.02397628]), 'std_score_time': array([0.00052695, 0.0002991 , 0.00034931, 0.00041764, 0.00034222,\n",
      "       0.0004869 , 0.00054823, 0.00051101, 0.00117029, 0.00040216,\n",
      "       0.00060086, 0.00071993, 0.00063358, 0.00075804, 0.00067338,\n",
      "       0.00071285, 0.00070714, 0.00080559, 0.00072319, 0.00075067,\n",
      "       0.00080609, 0.00078656, 0.00085619, 0.00086315, 0.00086968,\n",
      "       0.00071371, 0.00084972, 0.00092711, 0.00080067, 0.00096383]), 'param_n_neighbors': masked_array(data=[1, 2, 3, 4, 5, 6, 7, 8, 9, 10, 11, 12, 13, 14, 15, 16,\n",
      "                   17, 18, 19, 20, 21, 22, 23, 24, 25, 26, 27, 28, 29, 30],\n",
      "             mask=[False, False, False, False, False, False, False, False,\n",
      "                   False, False, False, False, False, False, False, False,\n",
      "                   False, False, False, False, False, False, False, False,\n",
      "                   False, False, False, False, False, False],\n",
      "       fill_value='?',\n",
      "            dtype=object), 'params': [{'n_neighbors': 1}, {'n_neighbors': 2}, {'n_neighbors': 3}, {'n_neighbors': 4}, {'n_neighbors': 5}, {'n_neighbors': 6}, {'n_neighbors': 7}, {'n_neighbors': 8}, {'n_neighbors': 9}, {'n_neighbors': 10}, {'n_neighbors': 11}, {'n_neighbors': 12}, {'n_neighbors': 13}, {'n_neighbors': 14}, {'n_neighbors': 15}, {'n_neighbors': 16}, {'n_neighbors': 17}, {'n_neighbors': 18}, {'n_neighbors': 19}, {'n_neighbors': 20}, {'n_neighbors': 21}, {'n_neighbors': 22}, {'n_neighbors': 23}, {'n_neighbors': 24}, {'n_neighbors': 25}, {'n_neighbors': 26}, {'n_neighbors': 27}, {'n_neighbors': 28}, {'n_neighbors': 29}, {'n_neighbors': 30}], 'split0_test_score': array([-0.92832778, -0.45727043, -0.310337  , -0.24259193, -0.19243814,\n",
      "       -0.15883248, -0.13799093, -0.1199427 , -0.11354453, -0.09853311,\n",
      "       -0.09447048, -0.08799504, -0.07947388, -0.07443142, -0.06926629,\n",
      "       -0.06486629, -0.06089953, -0.05790829, -0.05422236, -0.05127301,\n",
      "       -0.04845893, -0.04600996, -0.04407692, -0.04250072, -0.0425377 ,\n",
      "       -0.04071477, -0.03937723, -0.03823096, -0.03557206, -0.03481208]), 'split1_test_score': array([-0.93873101, -0.45678841, -0.30333766, -0.23715305, -0.19810366,\n",
      "       -0.16958698, -0.14630085, -0.133349  , -0.12013524, -0.10517248,\n",
      "       -0.09614987, -0.08965518, -0.0848958 , -0.08140273, -0.07757642,\n",
      "       -0.07572698, -0.07394658, -0.07311306, -0.07034849, -0.06823494,\n",
      "       -0.06752358, -0.06549023, -0.06510346, -0.06406075, -0.06238365,\n",
      "       -0.06208572, -0.06184849, -0.06008066, -0.06026241, -0.05826927]), 'split2_test_score': array([-0.90778867, -0.43603444, -0.26111634, -0.19413124, -0.15633322,\n",
      "       -0.12358827, -0.0937999 , -0.07680583, -0.06682832, -0.05847045,\n",
      "       -0.05015104, -0.04180249, -0.03805394, -0.03137759, -0.02838806,\n",
      "       -0.02502954, -0.02224   , -0.01780953, -0.01403317, -0.01143047,\n",
      "       -0.00839365, -0.009196  , -0.00735073, -0.00428159, -0.00537307,\n",
      "       -0.00484447, -0.00614147, -0.0074549 , -0.00692548, -0.00628435]), 'split3_test_score': array([-7.89885536e-01, -3.58519863e-01, -2.29599901e-01, -1.71418919e-01,\n",
      "       -1.31001105e-01, -1.03570797e-01, -7.66880376e-02, -6.42603227e-02,\n",
      "       -5.22537170e-02, -3.95528354e-02, -3.63573025e-02, -3.53565306e-02,\n",
      "       -2.73354486e-02, -2.55676776e-02, -2.18369246e-02, -1.72871272e-02,\n",
      "       -1.19498892e-02, -1.29052193e-02, -1.16314169e-02, -9.28527439e-03,\n",
      "       -5.75481234e-03, -6.93254077e-03, -7.71026913e-03, -6.43184907e-03,\n",
      "       -5.01174616e-03, -3.50320125e-03, -1.94126124e-03, -3.87556449e-04,\n",
      "       -2.09191624e-04,  7.60338147e-05]), 'split4_test_score': array([-0.74925056, -0.39795301, -0.28653982, -0.22265676, -0.1971194 ,\n",
      "       -0.17746016, -0.16491914, -0.15808299, -0.15042197, -0.14313244,\n",
      "       -0.14114225, -0.13586244, -0.13306569, -0.12867586, -0.1268728 ,\n",
      "       -0.12491743, -0.12324291, -0.1219186 , -0.11905668, -0.11907025,\n",
      "       -0.11581628, -0.11405878, -0.11261342, -0.11388909, -0.11418435,\n",
      "       -0.11320351, -0.11230444, -0.1114112 , -0.11161351, -0.11085126]), 'mean_test_score': array([-0.86279671, -0.42131323, -0.27818614, -0.21359038, -0.17499911,\n",
      "       -0.14660774, -0.12393977, -0.11048817, -0.10063676, -0.08897226,\n",
      "       -0.08365419, -0.07813434, -0.07256495, -0.06829106, -0.0647881 ,\n",
      "       -0.06156548, -0.05845578, -0.05673094, -0.05385842, -0.05185879,\n",
      "       -0.04918945, -0.0483375 , -0.04737096, -0.0462328 , -0.0458981 ,\n",
      "       -0.04487033, -0.04432258, -0.04351305, -0.04291653, -0.04202819]), 'std_test_score': array([0.0778375 , 0.0380968 , 0.02962452, 0.02696508, 0.02687559,\n",
      "       0.02832467, 0.03322017, 0.0350679 , 0.03608129, 0.03649609,\n",
      "       0.03724907, 0.03663998, 0.0376745 , 0.03753355, 0.03796807,\n",
      "       0.03878237, 0.03979369, 0.03988674, 0.03972918, 0.04057796,\n",
      "       0.04080851, 0.03966194, 0.03938644, 0.04062797, 0.04064493,\n",
      "       0.04073419, 0.04051449, 0.04018095, 0.04048053, 0.0402563 ]), 'rank_test_score': array([30, 29, 28, 27, 26, 25, 24, 23, 22, 21, 20, 19, 18, 17, 16, 15, 14,\n",
      "       13, 12, 11, 10,  9,  8,  7,  6,  5,  4,  3,  2,  1], dtype=int32)}\n"
     ]
    },
    {
     "data": {
      "text/plain": [
       "{'n_neighbors': 30}"
      ]
     },
     "execution_count": 19,
     "metadata": {},
     "output_type": "execute_result"
    }
   ],
   "source": [
    "# Tune hyperparameter n_neighbors, which tells it how many nearest neighbors to average together when making a prediction.\n",
    "\n",
    "from sklearn.model_selection import GridSearchCV\n",
    "from sklearn.model_selection import train_test_split\n",
    "X_train, X_test, y_train, y_test = train_test_split(data, star_ratings, test_size=0.33)\n",
    "\n",
    "clf = GridSearchCV(KNeighborsRegressor(), {'n_neighbors':[1, 2, 3, 4, 5, 6, 7, 8, 9, 10, 11, 12, 13, 14,\n",
    "15, 16, 17, 18, 19, 20, 21, 22, 23, 24, 25, 26, 27, 28, 29, 30]},\n",
    "    cv =5, return_train_score= False)\n",
    "\n",
    "\n",
    "clf.fit(data_transform, star_ratings)\n",
    "print(clf.cv_results_)\n",
    "clf.best_params_"
   ]
  },
  {
   "cell_type": "code",
   "execution_count": 16,
   "id": "9d6d48e9",
   "metadata": {},
   "outputs": [
    {
     "data": {
      "text/plain": [
       "array([3.98333333, 3.81666667, 3.78333333, 3.6       , 3.83333333])"
      ]
     },
     "execution_count": 16,
     "metadata": {},
     "output_type": "execute_result"
    }
   ],
   "source": [
    "# Feed the output of the transformer in to a KNeighborsRegressor\n",
    "\n",
    "from sklearn.neighbors import KNeighborsRegressor\n",
    "\n",
    "# Training the model\n",
    "data_transform = to_data_frame.transform(data)\n",
    "data_transform = selector.fit_transform(data_transform)\n",
    "knn = KNeighborsRegressor(n_neighbors=30) #change n_neighbors to 30 after doing the gridreseach\n",
    "knn.fit(data_transform, star_ratings)\n",
    "\n",
    "# Making predictions\n",
    "test_data = data[:5]\n",
    "test_data_transform = to_data_frame.transform(test_data)\n",
    "test_data_transform = selector.transform(test_data_transform)\n",
    "knn.predict(test_data_transform)"
   ]
  },
  {
   "cell_type": "code",
   "execution_count": 25,
   "id": "c61196f0",
   "metadata": {},
   "outputs": [],
   "source": [
    "lat_long_model = pipe.fit(X_train, y_train)"
   ]
  },
  {
   "cell_type": "code",
   "execution_count": 26,
   "id": "2b441278",
   "metadata": {},
   "outputs": [
    {
     "name": "stdout",
     "output_type": "stream",
     "text": [
      "Mean Absolute Error: 0.7057015441959531\n"
     ]
    }
   ],
   "source": [
    "from sklearn.metrics import mean_absolute_error\n",
    "\n",
    "y_pred = lat_long_model.predict(X_test)\n",
    "mae = mean_absolute_error(y_test, y_pred)\n",
    "print(\"Mean Absolute Error:\", mae)"
   ]
  },
  {
   "cell_type": "markdown",
   "id": "3d17b15e",
   "metadata": {},
   "source": [
    "category_model: build an estimator that considers only the categories field of the data, one-hot(or multiple) encoded the categories"
   ]
  },
  {
   "cell_type": "code",
   "execution_count": 27,
   "id": "f13fd999",
   "metadata": {},
   "outputs": [
    {
     "name": "stdout",
     "output_type": "stream",
     "text": [
      "0             {'Doctors': 1}\n",
      "1    {'Health & Medical': 1}\n",
      "dtype: object\n"
     ]
    }
   ],
   "source": [
    "#string to dict\n",
    "def transform_to_dicts(X):\n",
    "    return pd.Series([{word: 1 for word in list_} for list_ in X])\n",
    "        \n",
    "# for testing purpose\n",
    "X_in1 = pd.Series([['Doctors'], ['Health & Medical']])\n",
    "X_out1 = transform_to_dicts(X_in1)\n",
    "print(X_out1)"
   ]
  },
  {
   "cell_type": "code",
   "execution_count": 28,
   "id": "1de48a39",
   "metadata": {},
   "outputs": [],
   "source": [
    "#string to dict\n",
    "class DictEncoder(BaseEstimator, TransformerMixin):\n",
    "    \n",
    "    def fit(self, X, y=None):\n",
    "        return self\n",
    "\n",
    "    def transform(self, X):\n",
    "        # X will be a pandas series. Return a pandas series of dictionaries\n",
    "        return pd.Series([{word: 1 for word in list_} for list_ in X])"
   ]
  },
  {
   "cell_type": "code",
   "execution_count": 29,
   "id": "1f186e12",
   "metadata": {},
   "outputs": [
    {
     "name": "stdout",
     "output_type": "stream",
     "text": [
      "[3.8125 4.     4.     4.1875 4.    ]\n",
      "[3.5, 4.0, 4.0, 4.5, 4.0]\n",
      "0.609375\n"
     ]
    }
   ],
   "source": [
    "from sklearn.feature_extraction import DictVectorizer\n",
    "from sklearn.linear_model import Ridge\n",
    "\n",
    "dict_encoder = DictEncoder()\n",
    "dict_vectorizer = DictVectorizer()\n",
    "\n",
    "# for testing purpose\n",
    "X_ctg = dict_encoder.fit_transform(X_t['categories'])\n",
    "#print(X_ctg)\n",
    "\n",
    "X_onehot = dict_vectorizer.fit_transform(X_ctg)\n",
    "#print(X_onehot)\n",
    "\n",
    "ridge = Ridge(alpha = 5)\n",
    "ridge.fit(X_onehot, star_ratings[:5])\n",
    "\n",
    "# for testing purpose\n",
    "print(ridge.predict(X_onehot))\n",
    "print(star_ratings[:5])\n",
    "print(ridge.score(X_onehot, star_ratings[:5]))\n"
   ]
  },
  {
   "cell_type": "code",
   "execution_count": 32,
   "id": "b0d97b4f",
   "metadata": {},
   "outputs": [
    {
     "data": {
      "text/plain": [
       "array([3.35977596, 3.36376454, 3.29169566, 3.22648514, 3.30927342,\n",
       "       3.46086478, 4.0671917 , 3.92581242, 4.09757893, 3.3143259 ,\n",
       "       4.05870852, 3.56585037, 3.30049629, 3.30927342, 4.15189567,\n",
       "       4.05341024, 3.51467447, 4.19129119, 4.24440033, 3.35318938])"
      ]
     },
     "execution_count": 32,
     "metadata": {},
     "output_type": "execute_result"
    }
   ],
   "source": [
    "dict_encoder = DictEncoder()\n",
    "dict_vectorizer = DictVectorizer()\n",
    "\n",
    "pipe1 = Pipeline([\n",
    "    ('dict_encoder', dict_encoder), \n",
    "    ('dict_vectorizer', dict_vectorizer)])\n",
    "\n",
    "ct1 = ColumnTransformer([('one_hot', pipe1, 'categories')])\n",
    "\n",
    "# for testing purpose\n",
    "#ct1.fit_transform(pd.DataFrame(data), star_ratings)\n",
    "\n",
    "pipe2 = Pipeline(\n",
    "    [('to_data_frame', to_data_frame), \n",
    "     ('ct1', ct1), \n",
    "     ('ridge', ridge)])\n",
    "\n",
    "pipe2.fit(data, star_ratings)\n",
    "pipe2.predict(data[:20])"
   ]
  },
  {
   "cell_type": "code",
   "execution_count": 34,
   "id": "962f55ec",
   "metadata": {},
   "outputs": [
    {
     "name": "stdout",
     "output_type": "stream",
     "text": [
      "{'ridge__alpha': 4.6415888336127775}\n"
     ]
    }
   ],
   "source": [
    "gs2 = GridSearchCV(pipe2, {'ridge__alpha': np.logspace(-1.0, 1.0, num=7)})\n",
    "gs2.fit(X_train, y_train)\n",
    "print(gs2.best_params_)"
   ]
  },
  {
   "cell_type": "code",
   "execution_count": 35,
   "id": "90c5f626",
   "metadata": {},
   "outputs": [],
   "source": [
    "category_model = pipe2.set_params(ridge__alpha=4.6415888336127775).fit(X_train, y_train)"
   ]
  },
  {
   "cell_type": "code",
   "execution_count": 36,
   "id": "1556bedf",
   "metadata": {},
   "outputs": [
    {
     "name": "stdout",
     "output_type": "stream",
     "text": [
      "Mean Absolute Error: 0.6347757579035643\n"
     ]
    }
   ],
   "source": [
    "y_pred = category_model.predict(X_test)\n",
    "mae = mean_absolute_error(y_test, y_pred)\n",
    "print(\"Mean Absolute Error:\", mae)\n",
    "# Worse than lat_long_model"
   ]
  },
  {
   "cell_type": "markdown",
   "id": "4df3b50c",
   "metadata": {},
   "source": [
    "Attribute_model: build an estimator based on attributes for each venue. Venues attributes may be nested, so need to flatten the dictionary to a single level first."
   ]
  },
  {
   "cell_type": "code",
   "execution_count": 37,
   "id": "001a4249",
   "metadata": {},
   "outputs": [],
   "source": [
    "# Build a custom transformer that flattens the dictionary for the attributes field.\n",
    "\n",
    "class AttributeTransformer(BaseEstimator, TransformerMixin):\n",
    "    # Create the transformer to handle the attributes data\n",
    "    def fit(self, X, y=None):\n",
    "        return self\n",
    "\n",
    "    def transform(self, X):\n",
    "        # X will be a pandas series. Return a pandas series of dictionaries\n",
    "        def flatten(input: dict, prefix: str = '') -> dict:\n",
    "            output = dict()\n",
    "            \n",
    "            for key in input:\n",
    "                if type(input[key]) in {str, int, float}:\n",
    "                    output[prefix + key + '_' + str(input[key])] = 1\n",
    "                elif type(input[key]) == bool:\n",
    "                    output[prefix + key] = int(input[key])\n",
    "                elif type(input[key]) == list:\n",
    "                    for item in input[key]:\n",
    "                        output[prefix + str(item)] = 1\n",
    "                else:\n",
    "                    tmp = flatten(input[key], prefix + key + '_')\n",
    "                    output.update(tmp)\n",
    "            \n",
    "            return output\n",
    "        \n",
    "        return pd.Series([flatten(attr) for attr in X])"
   ]
  },
  {
   "cell_type": "code",
   "execution_count": 38,
   "id": "bda3e286",
   "metadata": {},
   "outputs": [
    {
     "data": {
      "text/plain": [
       "True"
      ]
     },
     "execution_count": 38,
     "metadata": {},
     "output_type": "execute_result"
    }
   ],
   "source": [
    "attribute_example = pd.Series([\n",
    "    {\n",
    "        'Wi-Fi': 'free',\n",
    "        'Price Range': 2,\n",
    "        'Parking': {\n",
    "            'garage': False,\n",
    "            'street': True\n",
    "        }\n",
    "    },\n",
    "    {\n",
    "        'Wi-Fi': 'no',\n",
    "        'Price Range': 3,\n",
    "        'Accepts Credit Cards': True,\n",
    "        'Take-out': False\n",
    "    },\n",
    "    {\n",
    "        'Wi-Fi': 'paid',\n",
    "        'Parking': {\n",
    "            'garage': True,\n",
    "            'valet': True\n",
    "        },\n",
    "        'Take-out': True\n",
    "    }\n",
    "])\n",
    "\n",
    "n_columns = 10\n",
    "\n",
    "test_att_transformer = AttributeTransformer()\n",
    "dictvect = DictVectorizer()\n",
    "\n",
    "dictvect.fit(test_att_transformer.fit_transform(attribute_example))\n",
    "\n",
    "test_att_transformer.fit_transform(attribute_example)\n",
    "len(dictvect.feature_names_) == n_columns"
   ]
  },
  {
   "cell_type": "code",
   "execution_count": 39,
   "id": "6804707b",
   "metadata": {},
   "outputs": [],
   "source": [
    "# Create the linear + non-linear ensemble predictor\n",
    "attr_trans = AttributeTransformer()\n",
    "dict_vectorizer1 = DictVectorizer()\n",
    "pipe3 = Pipeline([('attr_trans', attr_trans), ('dict_vectorizer1', dict_vectorizer1)])\n",
    "\n",
    "# Create the attribute model\n",
    "ct2 = ColumnTransformer([('one_hot1', pipe3, 'attributes')])\n",
    "ridge1 = Ridge()\n",
    "pipe4 = Pipeline([('to_data_frame', to_data_frame), ('ct2', ct2), ('ridge1', ridge1)])\n",
    "attribute_model = pipe4.fit(data, star_ratings)\n",
    "pipe4.predict(data)\n",
    "\n",
    "from sklearn.neighbors import KNeighborsRegressor\n",
    "class LinearNonlinearPredictor(BaseEstimator, TransformerMixin):\n",
    "    # Create the transformer to handle the attributes data\n",
    "    def fit(self, X, y=None):\n",
    "        import random\n",
    "        tmp = list(zip(X, y))\n",
    "        random.shuffle(tmp)\n",
    "        X, y = zip(*tmp)\n",
    "        X, y = list(X), list(y)\n",
    "        \n",
    "        self.pipe5 = Pipeline([('to_data_frame', to_data_frame), ('ct2', ct2), ('ridge1', ridge1)])\n",
    "        \n",
    "        gscv = GridSearchCV(self.pipe5, [{'ridge1__alpha': np.logspace(-3, 3, 7)}])\n",
    "        gscv.fit(X, y)\n",
    "        print(gscv.cv_results_)\n",
    "        print(gscv.best_params_)\n",
    "        \n",
    "        #self.pipe5.fit(X, y)\n",
    "        self.pipe5.set_params(**gscv.best_params_).fit(X, y)\n",
    "        \n",
    "        pipe5_pred = self.pipe5.predict(X)\n",
    "        res = y - pipe5_pred\n",
    "\n",
    "        #from matplotlib.pyplot import scatter\n",
    "        #scatter(pipe5_pred, y)\n",
    "        \n",
    "        #selector1 = ColumnTransformer(transformers=[('review_count', to_data_frame, 'review_count'),\n",
    "        #                                            ('state', OneHotEncoder(handle_unknown=\"ignore\"), ['state'])])\n",
    "        knn = KNeighborsRegressor()\n",
    "        #self.pipe6 = Pipeline([('to_data_frame', to_data_frame), ('selector1', selector1), ('dec_tree', dec_tree)])\n",
    "        self.pipe6 = Pipeline([('to_data_frame', to_data_frame), ('ct2', ct2), ('knn', knn)])\n",
    "\n",
    "        gscv2 = GridSearchCV(self.pipe6, [{'knn__n_neighbors':[50, 80, 100, 120, 150]}])\n",
    "        gscv2.fit(X, res)\n",
    "        print(gscv2.cv_results_)\n",
    "        print(gscv2.best_params_)\n",
    "        \n",
    "        #self.pipe6.fit(X, res)\n",
    "        self.pipe6.set_params(**gscv2.best_params_).fit(X, res)\n",
    "        \n",
    "        return self\n",
    "\n",
    "    def predict(self, X):\n",
    "        # X will be a pandas series. Return a pandas series of dictionaries\n",
    "        return self.pipe5.predict(X) + self.pipe6.predict(X)"
   ]
  },
  {
   "cell_type": "code",
   "execution_count": 52,
   "id": "65b31bb2",
   "metadata": {},
   "outputs": [],
   "source": [
    "from sklearn.neighbors import KNeighborsRegressor\n",
    "class LinearNonlinearPredictor(BaseEstimator, TransformerMixin):\n",
    "    # Create the transformer to handle the attributes data\n",
    "    def fit(self, X, y=None):\n",
    "        import random\n",
    "        tmp = list(zip(X, y))\n",
    "        random.shuffle(tmp)\n",
    "        X, y = zip(*tmp)\n",
    "        X, y = list(X), list(y)\n",
    "        \n",
    "        self.pipe5 = Pipeline([('to_data_frame', to_data_frame), ('ct2', ct2), ('ridge1', ridge1)])\n",
    "        gscv = GridSearchCV(self.pipe5, [{'ridge1__alpha': np.logspace(-3, 3, 7)}], cv=5)\n",
    "        gscv.fit(X, y)\n",
    "        self.pipe5 = gscv.best_estimator_  # Use the best estimator\n",
    "        \n",
    "        pipe5_pred = self.pipe5.predict(X)\n",
    "        res = y - pipe5_pred\n",
    "\n",
    "        self.pipe6 = Pipeline([('to_data_frame', to_data_frame), ('ct2', ct2), ('knn', KNeighborsRegressor())])\n",
    "        gscv2 = GridSearchCV(self.pipe6, [{'knn__n_neighbors': [10, 20, 30, 40, 50, 60, 70, 80, 90, 100, 110, 120, 130, 140, 150]}], cv=5)\n",
    "        gscv2.fit(X, res)\n",
    "        self.pipe6 = gscv2.best_estimator_  # Use the best estimator\n",
    "        \n",
    "        return self\n",
    "\n",
    "    def predict(self, X):\n",
    "        # X will be a pandas series. Return a pandas series of dictionaries\n",
    "        return self.pipe5.predict(X) + self.pipe6.predict(X)"
   ]
  },
  {
   "cell_type": "code",
   "execution_count": 53,
   "id": "433fdb92",
   "metadata": {},
   "outputs": [],
   "source": [
    "lnlt = LinearNonlinearPredictor()\n",
    "lnlt.fit(data, star_ratings)\n",
    "lnlt_pred = lnlt.predict(data)\n",
    "attribute_model = lnlt.fit(data, star_ratings)"
   ]
  },
  {
   "cell_type": "code",
   "execution_count": 54,
   "id": "b83c118c",
   "metadata": {},
   "outputs": [
    {
     "name": "stdout",
     "output_type": "stream",
     "text": [
      "Mean Absolute Error: 0.6700550045461798\n"
     ]
    }
   ],
   "source": [
    "y_pred = attribute_model.predict(X_test)\n",
    "mae = mean_absolute_error(y_test, y_pred)\n",
    "print(\"Mean Absolute Error:\", mae)"
   ]
  },
  {
   "attachments": {},
   "cell_type": "markdown",
   "id": "8fbc7abc",
   "metadata": {},
   "source": [
    "Build an ensemble regressor that averages together the estimates of the four previous regressors."
   ]
  },
  {
   "cell_type": "code",
   "execution_count": 55,
   "id": "bcaa749b",
   "metadata": {},
   "outputs": [],
   "source": [
    "# In order to use the existing models as input to a predictor, we will have to turn them into transformers; a predictor can only be in the final step of a pipeline. \n",
    "# Build a custom ModelTransformer class that takes a predictor as an argument. \n",
    "\n",
    "class ModelTransformer(BaseEstimator, TransformerMixin):\n",
    "    \n",
    "    def __init__(self, model):\n",
    "        self.model = model\n",
    "    \n",
    "    def fit(self, X, y=0):\n",
    "        self.model.fit(X,y)\n",
    "        return self\n",
    "    \n",
    "    def transform(self, X):\n",
    "        transformation = self.model.predict(X)  \n",
    "        transformation = np.array(transformation).reshape(-1,1)\n",
    "    \n",
    "        return transformation\n",
    "        \n",
    "city_model = CityRegressor()\n",
    "lat_long_model = Pipeline([\n",
    "    ('todataframe', to_data_frame),\n",
    "    ('select', selector),\n",
    "    ('knn', knn)])\n",
    "\n",
    "category_model = Pipeline([\n",
    "    ('to_data_frame', to_data_frame), \n",
    "    ('ct1', ct1), \n",
    "    ('ridge', ridge)])\n",
    "\n",
    "attribute_model = Pipeline([\n",
    "    ('to_data_frame', to_data_frame), \n",
    "    ('ct2', ct2), \n",
    "    ('ridge1', ridge1)])\n"
   ]
  },
  {
   "cell_type": "code",
   "execution_count": 56,
   "id": "cc775a2d",
   "metadata": {},
   "outputs": [
    {
     "data": {
      "text/plain": [
       "True"
      ]
     },
     "execution_count": 56,
     "metadata": {},
     "output_type": "execute_result"
    }
   ],
   "source": [
    "city_trans = ModelTransformer(city_model)\n",
    "city_trans.fit(data, star_ratings)\n",
    "X_t = city_trans.transform(data[:5])\n",
    "\n",
    "# Check that the transformation output is a 2-D array with one column\n",
    "np.array(X_t).shape[-1] == 1"
   ]
  },
  {
   "cell_type": "code",
   "execution_count": 57,
   "id": "273c3d8f",
   "metadata": {},
   "outputs": [],
   "source": [
    "# Create an instance of ModelTransformer for each of the previous four models. \n",
    "# Combine these together in a single feature matrix with a FeatureUnion.\n",
    "\n",
    "from sklearn.pipeline import FeatureUnion\n",
    "\n",
    "city_trans = ModelTransformer(city_model)\n",
    "lat_long_trans = ModelTransformer(lat_long_model)\n",
    "category_trans = ModelTransformer(category_model)\n",
    "attribute_trans = ModelTransformer(attribute_model)\n",
    "\n",
    "union = FeatureUnion([\n",
    "        # FeatureUnion uses the same syntax as Pipeline\n",
    "        (\"city\", city_trans),\n",
    "        (\"lat_long\", lat_long_trans),\n",
    "        (\"cat\", category_trans),\n",
    "        (\"att\", attribute_trans)\n",
    "    ])\n"
   ]
  },
  {
   "cell_type": "code",
   "execution_count": 47,
   "id": "c8a26306",
   "metadata": {},
   "outputs": [
    {
     "data": {
      "text/plain": [
       "True"
      ]
     },
     "execution_count": 47,
     "metadata": {},
     "output_type": "execute_result"
    }
   ],
   "source": [
    "# Our FeatureUnion object should return a feature matrix with four columns.\n",
    "union.fit(data, star_ratings)\n",
    "X_t = union.transform(data[:5])\n",
    "\n",
    "# Transformed data should have 5 rows and 4 columns\n",
    "X_t.shape == (5, 4)"
   ]
  },
  {
   "cell_type": "code",
   "execution_count": 58,
   "id": "09ddb100",
   "metadata": {},
   "outputs": [
    {
     "name": "stdout",
     "output_type": "stream",
     "text": [
      "[3.74261008 3.46280304 3.45121838 ... 4.73774691 3.9125424  4.01036951]\n"
     ]
    }
   ],
   "source": [
    "# Finally, use a pipeline to combine the feature union with a linear regression to weight the predictions.\n",
    "\n",
    "from sklearn.linear_model import LinearRegression\n",
    "pipeline = Pipeline([\n",
    "    ('features', union),\n",
    "    ('regressor', LinearRegression())  # Can use another model instead of Linear Regression\n",
    "])\n",
    "pipeline.fit(data, star_ratings)\n",
    "\n",
    "# Predict using the pipeline\n",
    "predictions = pipeline.predict(data)\n",
    "print(predictions)"
   ]
  },
  {
   "cell_type": "code",
   "execution_count": 59,
   "id": "a5c0120b",
   "metadata": {},
   "outputs": [],
   "source": [
    "full_model = pipeline.fit(data, star_ratings)"
   ]
  },
  {
   "cell_type": "code",
   "execution_count": 60,
   "id": "3009dc2d",
   "metadata": {},
   "outputs": [
    {
     "name": "stdout",
     "output_type": "stream",
     "text": [
      "Mean Absolute Error: 0.6031621692139899\n"
     ]
    }
   ],
   "source": [
    "y_pred = full_model.predict(X_test)\n",
    "mae = mean_absolute_error(y_test, y_pred)\n",
    "print(\"Mean Absolute Error:\", mae)"
   ]
  },
  {
   "cell_type": "code",
   "execution_count": null,
   "id": "ed40d584",
   "metadata": {},
   "outputs": [],
   "source": []
  },
  {
   "cell_type": "code",
   "execution_count": null,
   "id": "7482a7aa",
   "metadata": {},
   "outputs": [],
   "source": []
  }
 ],
 "metadata": {
  "kernelspec": {
   "display_name": "Python 3",
   "language": "python",
   "name": "python3"
  },
  "language_info": {
   "codemirror_mode": {
    "name": "ipython",
    "version": 3
   },
   "file_extension": ".py",
   "mimetype": "text/x-python",
   "name": "python",
   "nbconvert_exporter": "python",
   "pygments_lexer": "ipython3",
   "version": "3.8.18"
  }
 },
 "nbformat": 4,
 "nbformat_minor": 5
}
